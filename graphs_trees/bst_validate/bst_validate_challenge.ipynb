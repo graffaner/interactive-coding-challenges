{
 "cells": [
  {
   "cell_type": "markdown",
   "metadata": {},
   "source": [
    "This notebook was prepared by [Donne Martin](https://github.com/donnemartin). Source and license info is on [GitHub](https://github.com/donnemartin/interactive-coding-challenges)."
   ]
  },
  {
   "cell_type": "markdown",
   "metadata": {},
   "source": [
    "# Challenge Notebook"
   ]
  },
  {
   "cell_type": "markdown",
   "metadata": {},
   "source": [
    "## Problem: Determine if a tree is a valid binary search tree.\n",
    "\n",
    "* [Constraints](#Constraints)\n",
    "* [Test Cases](#Test-Cases)\n",
    "* [Algorithm](#Algorithm)\n",
    "* [Code](#Code)\n",
    "* [Unit Test](#Unit-Test)\n",
    "* [Solution Notebook](#Solution-Notebook)"
   ]
  },
  {
   "cell_type": "markdown",
   "metadata": {},
   "source": [
    "## Constraints\n",
    "\n",
    "* Can the tree have duplicates?\n",
    "    * Yes\n",
    "* If this is called on a None input, should we raise an exception?\n",
    "    * Yes\n",
    "* Can we assume we already have a Node class?\n",
    "    * Yes\n",
    "* Can we assume this fits in memory?\n",
    "    * Yes"
   ]
  },
  {
   "cell_type": "markdown",
   "metadata": {},
   "source": [
    "## Test Cases\n",
    "\n",
    "<pre>\n",
    "Valid:\n",
    "      5\n",
    "    /   \\\n",
    "   5     8\n",
    "  /     /\n",
    " 4     6\n",
    "        \\\n",
    "         7\n",
    "        \n",
    "Invalid:\n",
    "      5\n",
    "    /   \\\n",
    "   5     8\n",
    "  / \\   /\n",
    " 4   9 7\n",
    "</pre>"
   ]
  },
  {
   "cell_type": "markdown",
   "metadata": {},
   "source": [
    "## Algorithm\n",
    "\n",
    "Refer to the [Solution Notebook](http://nbviewer.ipython.org/github/donnemartin/interactive-coding-challenges/blob/master/graphs_trees/bst_validate/bst_validate_solution.ipynb).  If you are stuck and need a hint, the solution notebook's algorithm discussion might be a good place to start."
   ]
  },
  {
   "cell_type": "markdown",
   "metadata": {},
   "source": [
    "## Code"
   ]
  },
  {
   "cell_type": "code",
   "execution_count": 1,
   "metadata": {
    "collapsed": true
   },
   "outputs": [],
   "source": [
    "from collections import deque"
   ]
  },
  {
   "cell_type": "code",
   "execution_count": 2,
   "metadata": {
    "collapsed": true
   },
   "outputs": [],
   "source": [
    "# %load ../bst/bst.py\n",
    "class Node(object):\n",
    "\n",
    "    def __init__(self, data):\n",
    "        self.data = data\n",
    "        self.left = None\n",
    "        self.right = None\n",
    "        self.parent = None\n",
    "\n",
    "    def __repr__(self):\n",
    "        return str(self.data)\n",
    "\n",
    "\n",
    "class Bst(object):\n",
    "\n",
    "    def __init__(self, root=None):\n",
    "        self.root = root\n",
    "\n",
    "    def insert(self, data):\n",
    "        if data is None:\n",
    "            raise TypeError('data cannot be None')\n",
    "        if self.root is None:\n",
    "            self.root = Node(data)\n",
    "            return self.root\n",
    "        else:\n",
    "            return self._insert(self.root, data)\n",
    "\n",
    "    def _insert(self, node, data):\n",
    "        if node is None:\n",
    "            return Node(data)\n",
    "        if data <= node.data:\n",
    "            if node.left is None:\n",
    "                node.left = self._insert(node.left, data)\n",
    "                node.left.parent = node\n",
    "                return node.left\n",
    "            else:\n",
    "                return self._insert(node.left, data)\n",
    "        else:\n",
    "            if node.right is None:\n",
    "                node.right = self._insert(node.right, data)\n",
    "                node.right.parent = node\n",
    "                return node.right\n",
    "            else:\n",
    "                return self._insert(node.right, data)"
   ]
  },
  {
   "cell_type": "code",
   "execution_count": 3,
   "metadata": {},
   "outputs": [],
   "source": [
    "class BstValidate(Bst):\n",
    "\n",
    "    def validate(self):\n",
    "        # TODO: Implement me\n",
    "        if not self.root:\n",
    "            raise Exception(\"input root node is None\")\n",
    "            \n",
    "        return self._valid(self.root)\n",
    "            \n",
    "    def _valid(self, node):\n",
    "        left_valid = (self._valid(node.left)) and (self._find_max(node.left).data <= node.data) if node.left else True\n",
    "        right_valid = (self._valid(node.right)) and (node.data < self._find_min(node.right).data) if node.right else True\n",
    "        return left_valid and right_valid\n",
    "        \n",
    "    def _find_max(self, node):\n",
    "        if not node:\n",
    "            raise Exception(\"node input is none\")\n",
    "        tmp = node\n",
    "        while tmp.right:\n",
    "            tmp = tmp.right\n",
    "        return tmp\n",
    "        \n",
    "    def _find_min(self, node):\n",
    "        if not node:\n",
    "            raise Exception(\"node input is none\")\n",
    "        tmp = node\n",
    "        while tmp.left:\n",
    "            tmp = tmp.left\n",
    "        return tmp"
   ]
  },
  {
   "cell_type": "markdown",
   "metadata": {},
   "source": [
    "## Unit Test"
   ]
  },
  {
   "cell_type": "markdown",
   "metadata": {},
   "source": [
    "**The following unit test is expected to fail until you solve the challenge.**"
   ]
  },
  {
   "cell_type": "code",
   "execution_count": 4,
   "metadata": {},
   "outputs": [
    {
     "name": "stdout",
     "output_type": "stream",
     "text": [
      "Success: test_bst_validate\n"
     ]
    }
   ],
   "source": [
    "# %load test_bst_validate.py\n",
    "from nose.tools import assert_equal\n",
    "from nose.tools import raises\n",
    "\n",
    "\n",
    "class TestBstValidate(object):\n",
    "\n",
    "    @raises(Exception)\n",
    "    def test_bst_validate_empty(self):\n",
    "        validate_bst(None)\n",
    "\n",
    "    def test_bst_validate(self):\n",
    "        bst = BstValidate(Node(5))\n",
    "        bst.insert(8)\n",
    "        bst.insert(5)\n",
    "        bst.insert(6)\n",
    "        bst.insert(4)\n",
    "        bst.insert(7)\n",
    "        assert_equal(bst.validate(), True)\n",
    "\n",
    "        bst = BstValidate(Node(5))\n",
    "        left = Node(5)\n",
    "        right = Node(8)\n",
    "        invalid = Node(20)\n",
    "        bst.root.left = left\n",
    "        bst.root.right = right\n",
    "        bst.root.left.right = invalid\n",
    "        assert_equal(bst.validate(), False)\n",
    "\n",
    "        print('Success: test_bst_validate')\n",
    "\n",
    "\n",
    "def main():\n",
    "    test = TestBstValidate()\n",
    "    test.test_bst_validate_empty()\n",
    "    test.test_bst_validate()\n",
    "\n",
    "\n",
    "if __name__ == '__main__':\n",
    "    main()"
   ]
  },
  {
   "cell_type": "markdown",
   "metadata": {},
   "source": [
    "## Solution Notebook\n",
    "\n",
    "Review the [Solution Notebook](http://nbviewer.ipython.org/github/donnemartin/interactive-coding-challenges/blob/master/graphs_trees/bst_validate/bst_validate_solution.ipynb) for a discussion on algorithms and code solutions."
   ]
  }
 ],
 "metadata": {
  "kernelspec": {
   "display_name": "Python 3",
   "language": "python",
   "name": "python3"
  },
  "language_info": {
   "codemirror_mode": {
    "name": "ipython",
    "version": 3
   },
   "file_extension": ".py",
   "mimetype": "text/x-python",
   "name": "python",
   "nbconvert_exporter": "python",
   "pygments_lexer": "ipython3",
   "version": "3.6.1"
  }
 },
 "nbformat": 4,
 "nbformat_minor": 1
}
